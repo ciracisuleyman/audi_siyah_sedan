{
 "cells": [
  {
   "cell_type": "code",
   "execution_count": 1,
   "id": "6d14793f",
   "metadata": {
    "_cell_guid": "b1076dfc-b9ad-4769-8c92-a6c4dae69d19",
    "_uuid": "8f2839f25d086af736a60e9eeb907d3b93b6e0e5",
    "execution": {
     "iopub.execute_input": "2025-02-14T00:14:05.108942Z",
     "iopub.status.busy": "2025-02-14T00:14:05.108677Z",
     "iopub.status.idle": "2025-02-14T00:14:07.210729Z",
     "shell.execute_reply": "2025-02-14T00:14:07.209792Z"
    },
    "papermill": {
     "duration": 2.108235,
     "end_time": "2025-02-14T00:14:07.211962",
     "exception": false,
     "start_time": "2025-02-14T00:14:05.103727",
     "status": "completed"
    },
    "tags": []
   },
   "outputs": [
    {
     "name": "stdout",
     "output_type": "stream",
     "text": [
      "/kaggle/input/audi-a6-for-price-prediction-regression/audia6.csv\n"
     ]
    }
   ],
   "source": [
    "#------------kişisel özellik daraltması yapıldığı için yüksek doğruluk oranı içermemiştir.-------------\n",
    "# This Python 3 environment comes with many helpful analytics libraries installed\n",
    "# It is defined by the kaggle/python Docker image: https://github.com/kaggle/docker-python\n",
    "# For example, here's several helpful packages to load\n",
    "\n",
    "import numpy as np # linear algebra\n",
    "import pandas as pd # data processing, CSV file I/O (e.g. pd.read_csv)\n",
    "from sklearn.linear_model import LinearRegression\n",
    "from sklearn.model_selection import train_test_split\n",
    "# Input data files are available in the read-only \"../input/\" directory\n",
    "# For example, running this (by clicking run or pressing Shift+Enter) will list all files under the input directory\n",
    "\n",
    "import os\n",
    "for dirname, _, filenames in os.walk('/kaggle/input'):\n",
    "    for filename in filenames:\n",
    "        print(os.path.join(dirname, filename))\n",
    "\n",
    "# You can write up to 20GB to the current directory (/kaggle/working/) that gets preserved as output when you create a version using \"Save & Run All\" \n",
    "# You can also write temporary files to /kaggle/temp/, but they won't be saved outside of the current session"
   ]
  },
  {
   "cell_type": "code",
   "execution_count": 2,
   "id": "7b8a41ce",
   "metadata": {
    "execution": {
     "iopub.execute_input": "2025-02-14T00:14:07.219094Z",
     "iopub.status.busy": "2025-02-14T00:14:07.218746Z",
     "iopub.status.idle": "2025-02-14T00:14:07.233749Z",
     "shell.execute_reply": "2025-02-14T00:14:07.232963Z"
    },
    "papermill": {
     "duration": 0.020316,
     "end_time": "2025-02-14T00:14:07.235591",
     "exception": false,
     "start_time": "2025-02-14T00:14:07.215275",
     "status": "completed"
    },
    "tags": []
   },
   "outputs": [],
   "source": [
    "df=pd.read_csv(\"/kaggle/input/audi-a6-for-price-prediction-regression/audia6.csv\")"
   ]
  },
  {
   "cell_type": "code",
   "execution_count": 3,
   "id": "195ebaa9",
   "metadata": {
    "execution": {
     "iopub.execute_input": "2025-02-14T00:14:07.243097Z",
     "iopub.status.busy": "2025-02-14T00:14:07.242739Z",
     "iopub.status.idle": "2025-02-14T00:14:07.268335Z",
     "shell.execute_reply": "2025-02-14T00:14:07.267479Z"
    },
    "papermill": {
     "duration": 0.030808,
     "end_time": "2025-02-14T00:14:07.269682",
     "exception": false,
     "start_time": "2025-02-14T00:14:07.238874",
     "status": "completed"
    },
    "tags": []
   },
   "outputs": [
    {
     "data": {
      "text/html": [
       "<div>\n",
       "<style scoped>\n",
       "    .dataframe tbody tr th:only-of-type {\n",
       "        vertical-align: middle;\n",
       "    }\n",
       "\n",
       "    .dataframe tbody tr th {\n",
       "        vertical-align: top;\n",
       "    }\n",
       "\n",
       "    .dataframe thead th {\n",
       "        text-align: right;\n",
       "    }\n",
       "</style>\n",
       "<table border=\"1\" class=\"dataframe\">\n",
       "  <thead>\n",
       "    <tr style=\"text-align: right;\">\n",
       "      <th></th>\n",
       "      <th>Unnamed: 0</th>\n",
       "      <th>Model</th>\n",
       "      <th>Yıl</th>\n",
       "      <th>Kilometre</th>\n",
       "      <th>Renk</th>\n",
       "      <th>Fiyat</th>\n",
       "      <th>Quattro</th>\n",
       "      <th>Kasatipi</th>\n",
       "      <th>Pakettipi</th>\n",
       "      <th>Motor</th>\n",
       "      <th>Yakit</th>\n",
       "    </tr>\n",
       "  </thead>\n",
       "  <tbody>\n",
       "    <tr>\n",
       "      <th>0</th>\n",
       "      <td>1</td>\n",
       "      <td>Audi A6 Sedan 2.0 TDI</td>\n",
       "      <td>2015</td>\n",
       "      <td>298000</td>\n",
       "      <td>Siyah</td>\n",
       "      <td>1610000.0</td>\n",
       "      <td>False</td>\n",
       "      <td>Sedan</td>\n",
       "      <td>Standard</td>\n",
       "      <td>TDI</td>\n",
       "      <td>dizel</td>\n",
       "    </tr>\n",
       "    <tr>\n",
       "      <th>1</th>\n",
       "      <td>3</td>\n",
       "      <td>Audi A6 Sedan 2.0 TDI</td>\n",
       "      <td>2008</td>\n",
       "      <td>315000</td>\n",
       "      <td>Füme</td>\n",
       "      <td>615000.0</td>\n",
       "      <td>False</td>\n",
       "      <td>Sedan</td>\n",
       "      <td>Standard</td>\n",
       "      <td>TDI</td>\n",
       "      <td>dizel</td>\n",
       "    </tr>\n",
       "    <tr>\n",
       "      <th>2</th>\n",
       "      <td>4</td>\n",
       "      <td>Audi A6 Sedan 2.0 TDI</td>\n",
       "      <td>2011</td>\n",
       "      <td>227000</td>\n",
       "      <td>Siyah</td>\n",
       "      <td>1130000.0</td>\n",
       "      <td>False</td>\n",
       "      <td>Sedan</td>\n",
       "      <td>Standard</td>\n",
       "      <td>TDI</td>\n",
       "      <td>dizel</td>\n",
       "    </tr>\n",
       "  </tbody>\n",
       "</table>\n",
       "</div>"
      ],
      "text/plain": [
       "   Unnamed: 0                  Model   Yıl  Kilometre   Renk      Fiyat  \\\n",
       "0           1  Audi A6 Sedan 2.0 TDI  2015     298000  Siyah  1610000.0   \n",
       "1           3  Audi A6 Sedan 2.0 TDI  2008     315000   Füme   615000.0   \n",
       "2           4  Audi A6 Sedan 2.0 TDI  2011     227000  Siyah  1130000.0   \n",
       "\n",
       "   Quattro Kasatipi Pakettipi Motor  Yakit  \n",
       "0    False    Sedan  Standard   TDI  dizel  \n",
       "1    False    Sedan  Standard   TDI  dizel  \n",
       "2    False    Sedan  Standard   TDI  dizel  "
      ]
     },
     "execution_count": 3,
     "metadata": {},
     "output_type": "execute_result"
    }
   ],
   "source": [
    "df.head(3)"
   ]
  },
  {
   "cell_type": "code",
   "execution_count": 4,
   "id": "56bfd919",
   "metadata": {
    "execution": {
     "iopub.execute_input": "2025-02-14T00:14:07.277461Z",
     "iopub.status.busy": "2025-02-14T00:14:07.277151Z",
     "iopub.status.idle": "2025-02-14T00:14:07.287543Z",
     "shell.execute_reply": "2025-02-14T00:14:07.286667Z"
    },
    "papermill": {
     "duration": 0.015373,
     "end_time": "2025-02-14T00:14:07.288720",
     "exception": false,
     "start_time": "2025-02-14T00:14:07.273347",
     "status": "completed"
    },
    "tags": []
   },
   "outputs": [],
   "source": [
    "df.drop(columns=['Unnamed: 0','Model','Pakettipi','Motor','Yakit'],inplace=True)"
   ]
  },
  {
   "cell_type": "code",
   "execution_count": 5,
   "id": "3f5f5727",
   "metadata": {
    "execution": {
     "iopub.execute_input": "2025-02-14T00:14:07.296731Z",
     "iopub.status.busy": "2025-02-14T00:14:07.296360Z",
     "iopub.status.idle": "2025-02-14T00:14:07.305700Z",
     "shell.execute_reply": "2025-02-14T00:14:07.304656Z"
    },
    "papermill": {
     "duration": 0.014442,
     "end_time": "2025-02-14T00:14:07.306841",
     "exception": false,
     "start_time": "2025-02-14T00:14:07.292399",
     "status": "completed"
    },
    "tags": []
   },
   "outputs": [
    {
     "data": {
      "text/html": [
       "<div>\n",
       "<style scoped>\n",
       "    .dataframe tbody tr th:only-of-type {\n",
       "        vertical-align: middle;\n",
       "    }\n",
       "\n",
       "    .dataframe tbody tr th {\n",
       "        vertical-align: top;\n",
       "    }\n",
       "\n",
       "    .dataframe thead th {\n",
       "        text-align: right;\n",
       "    }\n",
       "</style>\n",
       "<table border=\"1\" class=\"dataframe\">\n",
       "  <thead>\n",
       "    <tr style=\"text-align: right;\">\n",
       "      <th></th>\n",
       "      <th>Yıl</th>\n",
       "      <th>Kilometre</th>\n",
       "      <th>Renk</th>\n",
       "      <th>Fiyat</th>\n",
       "      <th>Quattro</th>\n",
       "      <th>Kasatipi</th>\n",
       "    </tr>\n",
       "  </thead>\n",
       "  <tbody>\n",
       "    <tr>\n",
       "      <th>0</th>\n",
       "      <td>2015</td>\n",
       "      <td>298000</td>\n",
       "      <td>Siyah</td>\n",
       "      <td>1610000.0</td>\n",
       "      <td>False</td>\n",
       "      <td>Sedan</td>\n",
       "    </tr>\n",
       "    <tr>\n",
       "      <th>1</th>\n",
       "      <td>2008</td>\n",
       "      <td>315000</td>\n",
       "      <td>Füme</td>\n",
       "      <td>615000.0</td>\n",
       "      <td>False</td>\n",
       "      <td>Sedan</td>\n",
       "    </tr>\n",
       "    <tr>\n",
       "      <th>2</th>\n",
       "      <td>2011</td>\n",
       "      <td>227000</td>\n",
       "      <td>Siyah</td>\n",
       "      <td>1130000.0</td>\n",
       "      <td>False</td>\n",
       "      <td>Sedan</td>\n",
       "    </tr>\n",
       "  </tbody>\n",
       "</table>\n",
       "</div>"
      ],
      "text/plain": [
       "    Yıl  Kilometre   Renk      Fiyat  Quattro Kasatipi\n",
       "0  2015     298000  Siyah  1610000.0    False    Sedan\n",
       "1  2008     315000   Füme   615000.0    False    Sedan\n",
       "2  2011     227000  Siyah  1130000.0    False    Sedan"
      ]
     },
     "execution_count": 5,
     "metadata": {},
     "output_type": "execute_result"
    }
   ],
   "source": [
    "df.head(3)"
   ]
  },
  {
   "cell_type": "code",
   "execution_count": 6,
   "id": "6542194d",
   "metadata": {
    "execution": {
     "iopub.execute_input": "2025-02-14T00:14:07.314825Z",
     "iopub.status.busy": "2025-02-14T00:14:07.314531Z",
     "iopub.status.idle": "2025-02-14T00:14:07.320355Z",
     "shell.execute_reply": "2025-02-14T00:14:07.319499Z"
    },
    "papermill": {
     "duration": 0.011524,
     "end_time": "2025-02-14T00:14:07.321990",
     "exception": false,
     "start_time": "2025-02-14T00:14:07.310466",
     "status": "completed"
    },
    "tags": []
   },
   "outputs": [],
   "source": [
    "df['SiyahAudi'] = df['Renk'].apply(lambda x: 1 if x == 'Siyah' else 0)\n",
    "df['SedanAudi'] = df['Kasatipi'].apply(lambda x: 1 if x == 'Sedan' else 0)"
   ]
  },
  {
   "cell_type": "code",
   "execution_count": 7,
   "id": "3baa9d20",
   "metadata": {
    "execution": {
     "iopub.execute_input": "2025-02-14T00:14:07.329960Z",
     "iopub.status.busy": "2025-02-14T00:14:07.329730Z",
     "iopub.status.idle": "2025-02-14T00:14:07.338218Z",
     "shell.execute_reply": "2025-02-14T00:14:07.337409Z"
    },
    "papermill": {
     "duration": 0.01348,
     "end_time": "2025-02-14T00:14:07.339349",
     "exception": false,
     "start_time": "2025-02-14T00:14:07.325869",
     "status": "completed"
    },
    "tags": []
   },
   "outputs": [
    {
     "data": {
      "text/html": [
       "<div>\n",
       "<style scoped>\n",
       "    .dataframe tbody tr th:only-of-type {\n",
       "        vertical-align: middle;\n",
       "    }\n",
       "\n",
       "    .dataframe tbody tr th {\n",
       "        vertical-align: top;\n",
       "    }\n",
       "\n",
       "    .dataframe thead th {\n",
       "        text-align: right;\n",
       "    }\n",
       "</style>\n",
       "<table border=\"1\" class=\"dataframe\">\n",
       "  <thead>\n",
       "    <tr style=\"text-align: right;\">\n",
       "      <th></th>\n",
       "      <th>Yıl</th>\n",
       "      <th>Kilometre</th>\n",
       "      <th>Renk</th>\n",
       "      <th>Fiyat</th>\n",
       "      <th>Quattro</th>\n",
       "      <th>Kasatipi</th>\n",
       "      <th>SiyahAudi</th>\n",
       "      <th>SedanAudi</th>\n",
       "    </tr>\n",
       "  </thead>\n",
       "  <tbody>\n",
       "    <tr>\n",
       "      <th>0</th>\n",
       "      <td>2015</td>\n",
       "      <td>298000</td>\n",
       "      <td>Siyah</td>\n",
       "      <td>1610000.0</td>\n",
       "      <td>False</td>\n",
       "      <td>Sedan</td>\n",
       "      <td>1</td>\n",
       "      <td>1</td>\n",
       "    </tr>\n",
       "    <tr>\n",
       "      <th>1</th>\n",
       "      <td>2008</td>\n",
       "      <td>315000</td>\n",
       "      <td>Füme</td>\n",
       "      <td>615000.0</td>\n",
       "      <td>False</td>\n",
       "      <td>Sedan</td>\n",
       "      <td>0</td>\n",
       "      <td>1</td>\n",
       "    </tr>\n",
       "    <tr>\n",
       "      <th>2</th>\n",
       "      <td>2011</td>\n",
       "      <td>227000</td>\n",
       "      <td>Siyah</td>\n",
       "      <td>1130000.0</td>\n",
       "      <td>False</td>\n",
       "      <td>Sedan</td>\n",
       "      <td>1</td>\n",
       "      <td>1</td>\n",
       "    </tr>\n",
       "  </tbody>\n",
       "</table>\n",
       "</div>"
      ],
      "text/plain": [
       "    Yıl  Kilometre   Renk      Fiyat  Quattro Kasatipi  SiyahAudi  SedanAudi\n",
       "0  2015     298000  Siyah  1610000.0    False    Sedan          1          1\n",
       "1  2008     315000   Füme   615000.0    False    Sedan          0          1\n",
       "2  2011     227000  Siyah  1130000.0    False    Sedan          1          1"
      ]
     },
     "execution_count": 7,
     "metadata": {},
     "output_type": "execute_result"
    }
   ],
   "source": [
    "df.head(3)"
   ]
  },
  {
   "cell_type": "code",
   "execution_count": 8,
   "id": "fb4f2274",
   "metadata": {
    "execution": {
     "iopub.execute_input": "2025-02-14T00:14:07.347154Z",
     "iopub.status.busy": "2025-02-14T00:14:07.346893Z",
     "iopub.status.idle": "2025-02-14T00:14:07.352104Z",
     "shell.execute_reply": "2025-02-14T00:14:07.350890Z"
    },
    "papermill": {
     "duration": 0.010814,
     "end_time": "2025-02-14T00:14:07.353863",
     "exception": false,
     "start_time": "2025-02-14T00:14:07.343049",
     "status": "completed"
    },
    "tags": []
   },
   "outputs": [],
   "source": [
    "df.drop(columns=['Kasatipi','Renk'],inplace=True)"
   ]
  },
  {
   "cell_type": "code",
   "execution_count": 9,
   "id": "271e73ba",
   "metadata": {
    "execution": {
     "iopub.execute_input": "2025-02-14T00:14:07.362105Z",
     "iopub.status.busy": "2025-02-14T00:14:07.361839Z",
     "iopub.status.idle": "2025-02-14T00:14:07.369359Z",
     "shell.execute_reply": "2025-02-14T00:14:07.368644Z"
    },
    "papermill": {
     "duration": 0.012782,
     "end_time": "2025-02-14T00:14:07.370460",
     "exception": false,
     "start_time": "2025-02-14T00:14:07.357678",
     "status": "completed"
    },
    "tags": []
   },
   "outputs": [
    {
     "data": {
      "text/html": [
       "<div>\n",
       "<style scoped>\n",
       "    .dataframe tbody tr th:only-of-type {\n",
       "        vertical-align: middle;\n",
       "    }\n",
       "\n",
       "    .dataframe tbody tr th {\n",
       "        vertical-align: top;\n",
       "    }\n",
       "\n",
       "    .dataframe thead th {\n",
       "        text-align: right;\n",
       "    }\n",
       "</style>\n",
       "<table border=\"1\" class=\"dataframe\">\n",
       "  <thead>\n",
       "    <tr style=\"text-align: right;\">\n",
       "      <th></th>\n",
       "      <th>Yıl</th>\n",
       "      <th>Kilometre</th>\n",
       "      <th>Fiyat</th>\n",
       "      <th>Quattro</th>\n",
       "      <th>SiyahAudi</th>\n",
       "      <th>SedanAudi</th>\n",
       "    </tr>\n",
       "  </thead>\n",
       "  <tbody>\n",
       "    <tr>\n",
       "      <th>0</th>\n",
       "      <td>2015</td>\n",
       "      <td>298000</td>\n",
       "      <td>1610000.0</td>\n",
       "      <td>False</td>\n",
       "      <td>1</td>\n",
       "      <td>1</td>\n",
       "    </tr>\n",
       "    <tr>\n",
       "      <th>1</th>\n",
       "      <td>2008</td>\n",
       "      <td>315000</td>\n",
       "      <td>615000.0</td>\n",
       "      <td>False</td>\n",
       "      <td>0</td>\n",
       "      <td>1</td>\n",
       "    </tr>\n",
       "    <tr>\n",
       "      <th>2</th>\n",
       "      <td>2011</td>\n",
       "      <td>227000</td>\n",
       "      <td>1130000.0</td>\n",
       "      <td>False</td>\n",
       "      <td>1</td>\n",
       "      <td>1</td>\n",
       "    </tr>\n",
       "  </tbody>\n",
       "</table>\n",
       "</div>"
      ],
      "text/plain": [
       "    Yıl  Kilometre      Fiyat  Quattro  SiyahAudi  SedanAudi\n",
       "0  2015     298000  1610000.0    False          1          1\n",
       "1  2008     315000   615000.0    False          0          1\n",
       "2  2011     227000  1130000.0    False          1          1"
      ]
     },
     "execution_count": 9,
     "metadata": {},
     "output_type": "execute_result"
    }
   ],
   "source": [
    "df.head(3)"
   ]
  },
  {
   "cell_type": "code",
   "execution_count": 10,
   "id": "55d07e5b",
   "metadata": {
    "execution": {
     "iopub.execute_input": "2025-02-14T00:14:07.378028Z",
     "iopub.status.busy": "2025-02-14T00:14:07.377799Z",
     "iopub.status.idle": "2025-02-14T00:14:07.388731Z",
     "shell.execute_reply": "2025-02-14T00:14:07.387964Z"
    },
    "papermill": {
     "duration": 0.016095,
     "end_time": "2025-02-14T00:14:07.390039",
     "exception": false,
     "start_time": "2025-02-14T00:14:07.373944",
     "status": "completed"
    },
    "tags": []
   },
   "outputs": [],
   "source": [
    "# Diğer kategorik değişkenleri One-Hot Encoding ile dönüştürelimdd\n",
    "df = pd.get_dummies(df, columns=['Quattro', 'SiyahAudi', 'SedanAudi'], drop_first=True)"
   ]
  },
  {
   "cell_type": "code",
   "execution_count": 11,
   "id": "214510be",
   "metadata": {
    "execution": {
     "iopub.execute_input": "2025-02-14T00:14:07.398987Z",
     "iopub.status.busy": "2025-02-14T00:14:07.398724Z",
     "iopub.status.idle": "2025-02-14T00:14:07.406092Z",
     "shell.execute_reply": "2025-02-14T00:14:07.405448Z"
    },
    "papermill": {
     "duration": 0.012706,
     "end_time": "2025-02-14T00:14:07.407181",
     "exception": false,
     "start_time": "2025-02-14T00:14:07.394475",
     "status": "completed"
    },
    "tags": []
   },
   "outputs": [
    {
     "data": {
      "text/html": [
       "<div>\n",
       "<style scoped>\n",
       "    .dataframe tbody tr th:only-of-type {\n",
       "        vertical-align: middle;\n",
       "    }\n",
       "\n",
       "    .dataframe tbody tr th {\n",
       "        vertical-align: top;\n",
       "    }\n",
       "\n",
       "    .dataframe thead th {\n",
       "        text-align: right;\n",
       "    }\n",
       "</style>\n",
       "<table border=\"1\" class=\"dataframe\">\n",
       "  <thead>\n",
       "    <tr style=\"text-align: right;\">\n",
       "      <th></th>\n",
       "      <th>Yıl</th>\n",
       "      <th>Kilometre</th>\n",
       "      <th>Fiyat</th>\n",
       "      <th>Quattro_True</th>\n",
       "      <th>SiyahAudi_1</th>\n",
       "      <th>SedanAudi_1</th>\n",
       "    </tr>\n",
       "  </thead>\n",
       "  <tbody>\n",
       "    <tr>\n",
       "      <th>0</th>\n",
       "      <td>2015</td>\n",
       "      <td>298000</td>\n",
       "      <td>1610000.0</td>\n",
       "      <td>False</td>\n",
       "      <td>True</td>\n",
       "      <td>True</td>\n",
       "    </tr>\n",
       "    <tr>\n",
       "      <th>1</th>\n",
       "      <td>2008</td>\n",
       "      <td>315000</td>\n",
       "      <td>615000.0</td>\n",
       "      <td>False</td>\n",
       "      <td>False</td>\n",
       "      <td>True</td>\n",
       "    </tr>\n",
       "    <tr>\n",
       "      <th>2</th>\n",
       "      <td>2011</td>\n",
       "      <td>227000</td>\n",
       "      <td>1130000.0</td>\n",
       "      <td>False</td>\n",
       "      <td>True</td>\n",
       "      <td>True</td>\n",
       "    </tr>\n",
       "  </tbody>\n",
       "</table>\n",
       "</div>"
      ],
      "text/plain": [
       "    Yıl  Kilometre      Fiyat  Quattro_True  SiyahAudi_1  SedanAudi_1\n",
       "0  2015     298000  1610000.0         False         True         True\n",
       "1  2008     315000   615000.0         False        False         True\n",
       "2  2011     227000  1130000.0         False         True         True"
      ]
     },
     "execution_count": 11,
     "metadata": {},
     "output_type": "execute_result"
    }
   ],
   "source": [
    "df.head(3)"
   ]
  },
  {
   "cell_type": "code",
   "execution_count": 12,
   "id": "09d09254",
   "metadata": {
    "execution": {
     "iopub.execute_input": "2025-02-14T00:14:07.415915Z",
     "iopub.status.busy": "2025-02-14T00:14:07.415609Z",
     "iopub.status.idle": "2025-02-14T00:14:07.420474Z",
     "shell.execute_reply": "2025-02-14T00:14:07.419063Z"
    },
    "papermill": {
     "duration": 0.010978,
     "end_time": "2025-02-14T00:14:07.422285",
     "exception": false,
     "start_time": "2025-02-14T00:14:07.411307",
     "status": "completed"
    },
    "tags": []
   },
   "outputs": [],
   "source": [
    "df.columns = [col.replace('_1', '') for col in df.columns]\n",
    "df.columns = [col.replace('_True', '') for col in df.columns]"
   ]
  },
  {
   "cell_type": "code",
   "execution_count": 13,
   "id": "0b6a8d4a",
   "metadata": {
    "execution": {
     "iopub.execute_input": "2025-02-14T00:14:07.431066Z",
     "iopub.status.busy": "2025-02-14T00:14:07.430788Z",
     "iopub.status.idle": "2025-02-14T00:14:07.435461Z",
     "shell.execute_reply": "2025-02-14T00:14:07.434630Z"
    },
    "papermill": {
     "duration": 0.010527,
     "end_time": "2025-02-14T00:14:07.437033",
     "exception": false,
     "start_time": "2025-02-14T00:14:07.426506",
     "status": "completed"
    },
    "tags": []
   },
   "outputs": [],
   "source": [
    "df=df[['Yıl', 'Kilometre', 'Quattro', 'SiyahAudi','SedanAudi','Fiyat']]"
   ]
  },
  {
   "cell_type": "code",
   "execution_count": 14,
   "id": "b5b4efb1",
   "metadata": {
    "execution": {
     "iopub.execute_input": "2025-02-14T00:14:07.446493Z",
     "iopub.status.busy": "2025-02-14T00:14:07.446100Z",
     "iopub.status.idle": "2025-02-14T00:14:07.450872Z",
     "shell.execute_reply": "2025-02-14T00:14:07.449984Z"
    },
    "papermill": {
     "duration": 0.010937,
     "end_time": "2025-02-14T00:14:07.452114",
     "exception": false,
     "start_time": "2025-02-14T00:14:07.441177",
     "status": "completed"
    },
    "tags": []
   },
   "outputs": [],
   "source": [
    "y=df['Fiyat']\n",
    "x=df.drop('Fiyat',axis=1)"
   ]
  },
  {
   "cell_type": "code",
   "execution_count": 15,
   "id": "21c0c6c2",
   "metadata": {
    "execution": {
     "iopub.execute_input": "2025-02-14T00:14:07.460561Z",
     "iopub.status.busy": "2025-02-14T00:14:07.460295Z",
     "iopub.status.idle": "2025-02-14T00:14:07.465214Z",
     "shell.execute_reply": "2025-02-14T00:14:07.464558Z"
    },
    "papermill": {
     "duration": 0.010802,
     "end_time": "2025-02-14T00:14:07.466789",
     "exception": false,
     "start_time": "2025-02-14T00:14:07.455987",
     "status": "completed"
    },
    "tags": []
   },
   "outputs": [],
   "source": [
    "x_train,x_test,y_train,y_test=train_test_split(x,y,train_size=0.50,random_state=13)"
   ]
  },
  {
   "cell_type": "code",
   "execution_count": 16,
   "id": "336e351e",
   "metadata": {
    "execution": {
     "iopub.execute_input": "2025-02-14T00:14:07.475530Z",
     "iopub.status.busy": "2025-02-14T00:14:07.475203Z",
     "iopub.status.idle": "2025-02-14T00:14:07.521886Z",
     "shell.execute_reply": "2025-02-14T00:14:07.521020Z"
    },
    "papermill": {
     "duration": 0.052224,
     "end_time": "2025-02-14T00:14:07.523120",
     "exception": false,
     "start_time": "2025-02-14T00:14:07.470896",
     "status": "completed"
    },
    "tags": []
   },
   "outputs": [
    {
     "data": {
      "text/plain": [
       "0.8281045908879929"
      ]
     },
     "execution_count": 16,
     "metadata": {},
     "output_type": "execute_result"
    }
   ],
   "source": [
    "lm=LinearRegression()\n",
    "model=lm.fit(x_train,y_train)\n",
    "model.score(x_test,y_test)"
   ]
  },
  {
   "cell_type": "code",
   "execution_count": 17,
   "id": "d4531c43",
   "metadata": {
    "execution": {
     "iopub.execute_input": "2025-02-14T00:14:07.531428Z",
     "iopub.status.busy": "2025-02-14T00:14:07.531134Z",
     "iopub.status.idle": "2025-02-14T00:14:07.539419Z",
     "shell.execute_reply": "2025-02-14T00:14:07.538624Z"
    },
    "papermill": {
     "duration": 0.013555,
     "end_time": "2025-02-14T00:14:07.540563",
     "exception": false,
     "start_time": "2025-02-14T00:14:07.527008",
     "status": "completed"
    },
    "tags": []
   },
   "outputs": [
    {
     "data": {
      "text/plain": [
       "0.8518107974585862"
      ]
     },
     "execution_count": 17,
     "metadata": {},
     "output_type": "execute_result"
    }
   ],
   "source": [
    "model=lm.fit(x,y)\n",
    "model.score(x,y)"
   ]
  },
  {
   "cell_type": "code",
   "execution_count": 18,
   "id": "e4751b35",
   "metadata": {
    "execution": {
     "iopub.execute_input": "2025-02-14T00:14:07.550011Z",
     "iopub.status.busy": "2025-02-14T00:14:07.549692Z",
     "iopub.status.idle": "2025-02-14T00:14:07.558268Z",
     "shell.execute_reply": "2025-02-14T00:14:07.557483Z"
    },
    "papermill": {
     "duration": 0.014826,
     "end_time": "2025-02-14T00:14:07.559753",
     "exception": false,
     "start_time": "2025-02-14T00:14:07.544927",
     "status": "completed"
    },
    "tags": []
   },
   "outputs": [
    {
     "data": {
      "text/html": [
       "<div>\n",
       "<style scoped>\n",
       "    .dataframe tbody tr th:only-of-type {\n",
       "        vertical-align: middle;\n",
       "    }\n",
       "\n",
       "    .dataframe tbody tr th {\n",
       "        vertical-align: top;\n",
       "    }\n",
       "\n",
       "    .dataframe thead th {\n",
       "        text-align: right;\n",
       "    }\n",
       "</style>\n",
       "<table border=\"1\" class=\"dataframe\">\n",
       "  <thead>\n",
       "    <tr style=\"text-align: right;\">\n",
       "      <th></th>\n",
       "      <th>Yıl</th>\n",
       "      <th>Kilometre</th>\n",
       "      <th>Quattro</th>\n",
       "      <th>SiyahAudi</th>\n",
       "      <th>SedanAudi</th>\n",
       "      <th>Fiyat</th>\n",
       "    </tr>\n",
       "  </thead>\n",
       "  <tbody>\n",
       "    <tr>\n",
       "      <th>0</th>\n",
       "      <td>2015</td>\n",
       "      <td>298000</td>\n",
       "      <td>False</td>\n",
       "      <td>True</td>\n",
       "      <td>True</td>\n",
       "      <td>1610000.0</td>\n",
       "    </tr>\n",
       "    <tr>\n",
       "      <th>1</th>\n",
       "      <td>2008</td>\n",
       "      <td>315000</td>\n",
       "      <td>False</td>\n",
       "      <td>False</td>\n",
       "      <td>True</td>\n",
       "      <td>615000.0</td>\n",
       "    </tr>\n",
       "    <tr>\n",
       "      <th>2</th>\n",
       "      <td>2011</td>\n",
       "      <td>227000</td>\n",
       "      <td>False</td>\n",
       "      <td>True</td>\n",
       "      <td>True</td>\n",
       "      <td>1130000.0</td>\n",
       "    </tr>\n",
       "  </tbody>\n",
       "</table>\n",
       "</div>"
      ],
      "text/plain": [
       "    Yıl  Kilometre  Quattro  SiyahAudi  SedanAudi      Fiyat\n",
       "0  2015     298000    False       True       True  1610000.0\n",
       "1  2008     315000    False      False       True   615000.0\n",
       "2  2011     227000    False       True       True  1130000.0"
      ]
     },
     "execution_count": 18,
     "metadata": {},
     "output_type": "execute_result"
    }
   ],
   "source": [
    "df.head(3)"
   ]
  },
  {
   "cell_type": "code",
   "execution_count": 19,
   "id": "a78bac22",
   "metadata": {
    "execution": {
     "iopub.execute_input": "2025-02-14T00:14:07.568910Z",
     "iopub.status.busy": "2025-02-14T00:14:07.568588Z",
     "iopub.status.idle": "2025-02-14T00:14:07.574890Z",
     "shell.execute_reply": "2025-02-14T00:14:07.574114Z"
    },
    "papermill": {
     "duration": 0.012157,
     "end_time": "2025-02-14T00:14:07.576250",
     "exception": false,
     "start_time": "2025-02-14T00:14:07.564093",
     "status": "completed"
    },
    "tags": []
   },
   "outputs": [
    {
     "name": "stdout",
     "output_type": "stream",
     "text": [
      "[1424137.5309588]\n"
     ]
    }
   ],
   "source": [
    "X_new = pd.DataFrame([[2012, 390000, 1, 1, 1]], columns=['Yıl', 'Kilometre', 'Quattro', 'SiyahAudi', 'SedanAudi'])\n",
    "# Tahmin yap\n",
    "prediction = model.predict(X_new)\n",
    "print(prediction)"
   ]
  }
 ],
 "metadata": {
  "kaggle": {
   "accelerator": "none",
   "dataSources": [
    {
     "datasetId": 6546646,
     "sourceId": 10578657,
     "sourceType": "datasetVersion"
    }
   ],
   "dockerImageVersionId": 30886,
   "isGpuEnabled": false,
   "isInternetEnabled": true,
   "language": "python",
   "sourceType": "notebook"
  },
  "kernelspec": {
   "display_name": "Python 3",
   "language": "python",
   "name": "python3"
  },
  "language_info": {
   "codemirror_mode": {
    "name": "ipython",
    "version": 3
   },
   "file_extension": ".py",
   "mimetype": "text/x-python",
   "name": "python",
   "nbconvert_exporter": "python",
   "pygments_lexer": "ipython3",
   "version": "3.10.12"
  },
  "papermill": {
   "default_parameters": {},
   "duration": 5.196083,
   "end_time": "2025-02-14T00:14:08.198965",
   "environment_variables": {},
   "exception": null,
   "input_path": "__notebook__.ipynb",
   "output_path": "__notebook__.ipynb",
   "parameters": {},
   "start_time": "2025-02-14T00:14:03.002882",
   "version": "2.6.0"
  }
 },
 "nbformat": 4,
 "nbformat_minor": 5
}
